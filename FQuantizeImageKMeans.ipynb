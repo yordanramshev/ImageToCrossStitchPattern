{
 "cells": [
  {
   "cell_type": "code",
   "execution_count": 29,
   "metadata": {},
   "outputs": [
    {
     "name": "stdout",
     "output_type": "stream",
     "text": [
      "Fitting model on a small sub-sample of the data\n",
      "done in 0.147s.\n",
      "Predicting color indices on the full image (k-means)\n",
      "done in 0.361s.\n"
     ]
    },
    {
     "data": {
      "text/plain": [
       "True"
      ]
     },
     "execution_count": 29,
     "metadata": {},
     "output_type": "execute_result"
    }
   ],
   "source": [
    "# Authors: Yordan Ramshev <yordan.ramshev@gmail.com>\n",
    "\n",
    "import numpy as np\n",
    "from sklearn.cluster import KMeans\n",
    "from sklearn.utils import shuffle\n",
    "from time import time\n",
    "import cv2\n",
    "\n",
    "n_colors = 40\n",
    "\n",
    "\n",
    "Inputimg = cv2.imread('pipidodokiss.jpg')\n",
    "\n",
    "\n",
    "BGRcolors = Inputimg.reshape((-1,3))\n",
    "\n",
    "print(\"Fitting model on a small sub-sample of the data\")\n",
    "t0 = time()\n",
    "BGRcolors_samples = shuffle(BGRcolors, random_state=0)[:1000]\n",
    "kmeans = KMeans(n_clusters=n_colors, random_state=0).fit(BGRcolors_samples)\n",
    "print(\"done in %0.3fs.\" % (time() - t0))\n",
    "\n",
    "# Get labels for all points\n",
    "print(\"Predicting color indices on the full image (k-means)\")\n",
    "t0 = time()\n",
    "labels = kmeans.predict(BGRcolors)\n",
    "print(\"done in %0.3fs.\" % (time() - t0))\n",
    "\n",
    "\n",
    "#Changing centers dtype to uint8, reshaping kmeans output to image shape\n",
    "cluster_centers = np.uint8(kmeans.cluster_centers_)\n",
    "response = cluster_centers[labels]\n",
    "QuantizedImg = response.reshape(Inputimg.shape)\n",
    "\n",
    "#Saving final image\n",
    "cv2.imwrite('Quantized%dColorsImage.jpg' % n_colors,QuantizedImg)\n"
   ]
  },
  {
   "cell_type": "code",
   "execution_count": null,
   "metadata": {},
   "outputs": [],
   "source": []
  }
 ],
 "metadata": {
  "kernelspec": {
   "display_name": "Python 3",
   "language": "python",
   "name": "python3"
  },
  "language_info": {
   "codemirror_mode": {
    "name": "ipython",
    "version": 3
   },
   "file_extension": ".py",
   "mimetype": "text/x-python",
   "name": "python",
   "nbconvert_exporter": "python",
   "pygments_lexer": "ipython3",
   "version": "3.7.4"
  }
 },
 "nbformat": 4,
 "nbformat_minor": 2
}
